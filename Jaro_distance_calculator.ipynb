{
 "cells": [
  {
   "cell_type": "code",
   "execution_count": 2,
   "metadata": {
    "collapsed": true,
    "pycharm": {
     "is_executing": false
    }
   },
   "outputs": [],
   "source": [
    "#Import libraries\n",
    "import re\n",
    "import pandas as pd\n",
    "import numpy as np"
   ]
  },
  {
   "cell_type": "code",
   "execution_count": 3,
   "outputs": [],
   "source": [
    "#This function cleans text \n",
    "def cleantext(text):\n",
    "    clean = re.sub('[^a-zA-z]', '', text)\n",
    "    clean = clean.upper()\n",
    "    return clean \n",
    "\n"
   ],
   "metadata": {
    "collapsed": false,
    "pycharm": {
     "name": "#%%\n",
     "is_executing": false
    }
   }
  },
  {
   "cell_type": "code",
   "execution_count": 6,
   "outputs": [],
   "source": [
    "#Create test data\n",
    "df = {'Chars' : ['f1','f1 23', 'fde @ 1 2 3']}\n",
    "df['Clean'] = [*map(cleantext,df['Chars'])]\n",
    "df['MoreChars'] = ['f 1','f 2', 'fde @ 1 2 3']"
   ],
   "metadata": {
    "collapsed": false,
    "pycharm": {
     "name": "#%%\n",
     "is_executing": false
    }
   }
  },
  {
   "cell_type": "code",
   "execution_count": 7,
   "outputs": [
    {
     "data": {
      "text/plain": "{'Chars': ['f1', 'f1 23', 'fde @ 1 2 3'],\n 'Clean': ['F', 'F', 'FDE'],\n 'MoreChars': ['f 1', 'f 2', 'fde @ 1 2 3']}"
     },
     "metadata": {},
     "output_type": "execute_result",
     "execution_count": 7
    }
   ],
   "source": [
    "df"
   ],
   "metadata": {
    "collapsed": false,
    "pycharm": {
     "name": "#%%\n",
     "is_executing": false
    }
   }
  },
  {
   "cell_type": "code",
   "execution_count": 8,
   "outputs": [
    {
     "name": "stdout",
     "text": [
      "jaro('JOHN', 'JOHNNY') = 0.8888888889\njaro('PYTHON', 'PYSPARK') = 0.5396825397\njaro('NEW YORK', 'NEW JERSEY') = 0.7083333333\n"
     ],
     "output_type": "stream"
    }
   ],
   "source": [
    "#Jaro distance function\n",
    " \n",
    "from __future__ import division\n",
    " \n",
    " \n",
    "def jaro(s, t):\n",
    "    s_len = len(s)\n",
    "    t_len = len(t)\n",
    " \n",
    "    if s_len == 0 and t_len == 0:\n",
    "        return 1\n",
    " \n",
    "    match_distance = (max(s_len, t_len) // 2) - 1\n",
    " \n",
    "    s_matches = [False] * s_len\n",
    "    t_matches = [False] * t_len\n",
    " \n",
    "    matches = 0\n",
    "    transpositions = 0\n",
    " \n",
    "    for i in range(s_len):\n",
    "        start = max(0, i - match_distance)\n",
    "        end = min(i + match_distance + 1, t_len)\n",
    " \n",
    "        for j in range(start, end):\n",
    "            if t_matches[j]:\n",
    "                continue\n",
    "            if s[i] != t[j]:\n",
    "                continue\n",
    "            s_matches[i] = True\n",
    "            t_matches[j] = True\n",
    "            matches += 1\n",
    "            break\n",
    " \n",
    "    if matches == 0:\n",
    "        return 0\n",
    " \n",
    "    k = 0\n",
    "    for i in range(s_len):\n",
    "        if not s_matches[i]:\n",
    "            continue\n",
    "        while not t_matches[k]:\n",
    "            k += 1\n",
    "        if s[i] != t[k]:\n",
    "            transpositions += 1\n",
    "        k += 1\n",
    " \n",
    "    return ((matches / s_len) +\n",
    "            (matches / t_len) +\n",
    "            ((matches - transpositions / 2) / matches)) / 3\n",
    " \n",
    " \n",
    "def main():\n",
    "    '''Tests'''\n",
    " \n",
    "    for s, t in [('JOHN', 'JOHNNY'),\n",
    "                 ('PYTHON', 'PYSPARK'),\n",
    "                 ('NEW YORK', 'NEW JERSEY')]:\n",
    "        print(\"jaro(%r, %r) = %.10f\" % (s, t, jaro(s, t)))\n",
    " \n",
    " \n",
    "if __name__ == '__main__':\n",
    "    main()\n"
   ],
   "metadata": {
    "collapsed": false,
    "pycharm": {
     "name": "#%%\n",
     "is_executing": false
    }
   }
  },
  {
   "cell_type": "code",
   "execution_count": 9,
   "outputs": [
    {
     "data": {
      "text/plain": "{'Chars': ['f1', 'f1 23', 'fde @ 1 2 3'],\n 'Clean': ['F', 'F', 'FDE'],\n 'MoreChars': ['f 1', 'f 2', 'fde @ 1 2 3'],\n 'Score': [0.611111111111111, 0.8666666666666667, 1.0]}"
     },
     "metadata": {},
     "output_type": "execute_result",
     "execution_count": 9
    }
   ],
   "source": [
    "#Calculate score for test data\n",
    "df['Score'] = [*map(jaro,df['Chars'],df['MoreChars'])]\n",
    "df"
   ],
   "metadata": {
    "collapsed": false,
    "pycharm": {
     "name": "#%%\n",
     "is_executing": false
    }
   }
  },
  {
   "cell_type": "code",
   "execution_count": null,
   "outputs": [],
   "source": [
    "\n"
   ],
   "metadata": {
    "collapsed": false,
    "pycharm": {
     "name": "#%%\n"
    }
   }
  }
 ],
 "metadata": {
  "kernelspec": {
   "display_name": "Python 3",
   "language": "python",
   "name": "python3"
  },
  "language_info": {
   "codemirror_mode": {
    "name": "ipython",
    "version": 2
   },
   "file_extension": ".py",
   "mimetype": "text/x-python",
   "name": "python",
   "nbconvert_exporter": "python",
   "pygments_lexer": "ipython2",
   "version": "2.7.6"
  },
  "pycharm": {
   "stem_cell": {
    "cell_type": "raw",
    "source": [],
    "metadata": {
     "collapsed": false
    }
   }
  }
 },
 "nbformat": 4,
 "nbformat_minor": 0
}